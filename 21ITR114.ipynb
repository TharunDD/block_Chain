{
  "nbformat": 4,
  "nbformat_minor": 0,
  "metadata": {
    "colab": {
      "provenance": [],
      "authorship_tag": "ABX9TyM53tcsPCZyPVDCCrbcgvcP",
      "include_colab_link": true
    },
    "kernelspec": {
      "name": "python3",
      "display_name": "Python 3"
    },
    "language_info": {
      "name": "python"
    }
  },
  "cells": [
    {
      "cell_type": "markdown",
      "metadata": {
        "id": "view-in-github",
        "colab_type": "text"
      },
      "source": [
        "<a href=\"https://colab.research.google.com/github/TharunDD/block_Chain/blob/main/21ITR114.ipynb\" target=\"_parent\"><img src=\"https://colab.research.google.com/assets/colab-badge.svg\" alt=\"Open In Colab\"/></a>"
      ]
    },
    {
      "cell_type": "code",
      "execution_count": 1,
      "metadata": {
        "colab": {
          "base_uri": "https://localhost:8080/"
        },
        "id": "QuVrJRphxfM_",
        "outputId": "26fd7afa-5188-4214-c209-f24644852caa"
      },
      "outputs": [
        {
          "output_type": "stream",
          "name": "stdout",
          "text": [
            "Index: 0\n",
            "Previous Hash: 0\n",
            "Hash: 303a51176bf3b5a79cd8e8c5643afad09d2cca21c67927a241903ecf175e9c8b\n",
            "Data: Genesis Block\n",
            "Nonce: 0\n",
            "Timestamp: 1721053287.7559693\n",
            "-------------\n",
            "Index: 1\n",
            "Previous Hash: 303a51176bf3b5a79cd8e8c5643afad09d2cca21c67927a241903ecf175e9c8b\n",
            "Hash: 00003d2ecf6745ac0996c5a2cdc9ecc850c1948683dceee2d1229a0cd76e45af\n",
            "Data: Block 1 Data\n",
            "Nonce: 156948\n",
            "Timestamp: 1721053287.7561612\n",
            "-------------\n",
            "Index: 2\n",
            "Previous Hash: 00003d2ecf6745ac0996c5a2cdc9ecc850c1948683dceee2d1229a0cd76e45af\n",
            "Hash: 0000e2ce170d0c238b6ae528a09dd8816f6577d49431467cc5c4323c24b71432\n",
            "Data: Block 2 Data\n",
            "Nonce: 36109\n",
            "Timestamp: 1721053292.1739674\n",
            "-------------\n",
            "Is blockchain valid? False\n"
          ]
        }
      ],
      "source": [
        "import hashlib\n",
        "import json\n",
        "from time import time\n",
        "\n",
        "class Block:\n",
        "    def __init__(self, index, previous_hash, timestamp, data, nonce=0):\n",
        "        self.index = index\n",
        "        self.previous_hash = previous_hash\n",
        "        self.timestamp = timestamp\n",
        "        self.data = data\n",
        "        self.nonce = nonce\n",
        "        self.hash = self.calculate_hash()\n",
        "\n",
        "    def calculate_hash(self):\n",
        "        block_string = json.dumps(self.__dict__, sort_keys=True).encode()\n",
        "        return hashlib.sha256(block_string).hexdigest()\n",
        "\n",
        "class Blockchain:\n",
        "    def __init__(self):\n",
        "        self.chain = [self.create_genesis_block()]\n",
        "        self.difficulty = 4\n",
        "\n",
        "    def create_genesis_block(self):\n",
        "        return Block(0, \"0\", time(), \"Genesis Block\")\n",
        "\n",
        "    def get_latest_block(self):\n",
        "        return self.chain[-1]\n",
        "\n",
        "    def add_block(self, new_block):\n",
        "        new_block.previous_hash = self.get_latest_block().hash\n",
        "        new_block.hash = self.proof_of_work(new_block)\n",
        "        self.chain.append(new_block)\n",
        "\n",
        "    def proof_of_work(self, block):\n",
        "        block.nonce = 0\n",
        "        computed_hash = block.calculate_hash()\n",
        "        while not computed_hash.startswith('0' * self.difficulty):\n",
        "            block.nonce += 1\n",
        "            computed_hash = block.calculate_hash()\n",
        "        return computed_hash\n",
        "\n",
        "    def is_chain_valid(self):\n",
        "        for i in range(1, len(self.chain)):\n",
        "            current_block = self.chain[i]\n",
        "            previous_block = self.chain[i - 1]\n",
        "\n",
        "            if current_block.hash != current_block.calculate_hash():\n",
        "                return False\n",
        "\n",
        "            if current_block.previous_hash != previous_block.hash:\n",
        "                return False\n",
        "\n",
        "        return True\n",
        "\n",
        "# Usage\n",
        "blockchain = Blockchain()\n",
        "\n",
        "# Add blocks to the blockchain\n",
        "blockchain.add_block(Block(1, blockchain.get_latest_block().hash, time(), \"Block 1 Data\"))\n",
        "blockchain.add_block(Block(2, blockchain.get_latest_block().hash, time(), \"Block 2 Data\"))\n",
        "\n",
        "# Print the blockchain\n",
        "for block in blockchain.chain:\n",
        "    print(f\"Index: {block.index}\")\n",
        "    print(f\"Previous Hash: {block.previous_hash}\")\n",
        "    print(f\"Hash: {block.hash}\")\n",
        "    print(f\"Data: {block.data}\")\n",
        "    print(f\"Nonce: {block.nonce}\")\n",
        "    print(f\"Timestamp: {block.timestamp}\")\n",
        "    print(\"-------------\")\n",
        "\n",
        "# Validate the blockchain\n",
        "print(\"Is blockchain valid?\", blockchain.is_chain_valid())"
      ]
    }
  ]
}